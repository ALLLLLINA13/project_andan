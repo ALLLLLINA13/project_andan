{
 "cells": [
  {
   "cell_type": "code",
   "execution_count": 55,
   "id": "28f0cbae",
   "metadata": {},
   "outputs": [],
   "source": [
    "import requests\n",
    "from bs4 import BeautifulSoup \n",
    "import pandas as pd\n",
    "import re\n",
    "from random import uniform\n",
    "import time\n",
    "from fake_headers import Headers"
   ]
  },
  {
   "cell_type": "code",
   "execution_count": 56,
   "id": "0527b72f",
   "metadata": {},
   "outputs": [],
   "source": [
    "def get_soup(url):\n",
    "    try:\n",
    "        response = requests.get(url)\n",
    "        response.raise_for_status() \n",
    "        soup = BeautifulSoup(response.text, 'html.parser')\n",
    "        return soup\n",
    "    except requests.RequestException:\n",
    "        return False"
   ]
  },
  {
   "cell_type": "code",
   "execution_count": 62,
   "id": "32790e2b",
   "metadata": {},
   "outputs": [],
   "source": [
    "def get_urls():\n",
    "    links = []\n",
    "    for i in range(70):\n",
    "        url = f'https://www.film.ru/a-z/movies/nojs?page={i}'\n",
    "        soup = get_soup(url)\n",
    "        data = soup.find_all(class_ = 'film_list_link')\n",
    "        all_links = [i['href'] for i in data]\n",
    "        links.append(all_links)\n",
    "        links_flat = [n for k in links for n in k]\n",
    "    return links_flat"
   ]
  },
  {
   "cell_type": "code",
   "execution_count": 63,
   "id": "ae4f2b22",
   "metadata": {},
   "outputs": [],
   "source": [
    "def parse_web():\n",
    "    list_links = get_urls()\n",
    "    final=[]\n",
    "    for l in list_links: \n",
    "        home_page = 'https://www.film.ru'\n",
    "        li = home_page + str(l)\n",
    "        soup_1 = get_soup(li)\n",
    "        info = soup_1.find(class_ = \"wrapper_movies_top_main_right\")\n",
    "        info = str(info('h1')).split(\"<br/>\")\n",
    "        info_1 = soup_1.find(class_ = 'block_info')\n",
    "        info_2 = soup_1.find_all('div', class_ = 'wrapper_movies_scores_score')\n",
    "        info_3 = soup_1.find_all('div', class_ = 'block_table')\n",
    "        grade = [i.text.strip() for i in info_2]\n",
    "        all_data = {'Название': info[0][5:]}\n",
    "        grades = ['Оценка Film.ru', 'Оценка IMDb', 'Оценка пользователей']\n",
    "        for i in range(len(grade)):\n",
    "            if i==3:\n",
    "                break\n",
    "            else:\n",
    "                all_data[grades[i]] = grade[i].split('\\n')[0]\n",
    "        titles = ['Год', 'Жанр', 'Страна']\n",
    "        for i in range(len(info_1('a'))):\n",
    "            if i==3:\n",
    "                break\n",
    "            else:\n",
    "                all_data[titles[i]] = info_1('a')[i].text\n",
    "        for i in range(len(info_3)):\n",
    "            all_data[info_3[i].text.strip().split('\\n')[0]] = info_3[i].text.strip().replace(\"  \", \"\").split('\\n')[-1]\n",
    "        final.append(all_data)\n",
    "    return final"
   ]
  },
  {
   "cell_type": "code",
   "execution_count": 64,
   "id": "6a25afd1",
   "metadata": {
    "scrolled": true
   },
   "outputs": [],
   "source": [
    "def create_file(results):\n",
    "    df = pd.DataFrame(results)\n",
    "    with open('films.tsv','w') as f:\n",
    "        df.to_csv(f, index=False) \n"
   ]
  },
  {
   "cell_type": "code",
   "execution_count": null,
   "id": "fa3a8bfb",
   "metadata": {},
   "outputs": [],
   "source": [
    "films = parse_web()\n",
    "df = pd.DataFrame(films)\n",
    "df"
   ]
  },
  {
   "cell_type": "code",
   "execution_count": 48,
   "id": "ba19689d",
   "metadata": {},
   "outputs": [],
   "source": [
    "create_file(films)"
   ]
  },
  {
   "cell_type": "code",
   "execution_count": null,
   "id": "ddb35b20",
   "metadata": {},
   "outputs": [],
   "source": []
  }
 ],
 "metadata": {
  "kernelspec": {
   "display_name": "Python 3 (ipykernel)",
   "language": "python",
   "name": "python3"
  },
  "language_info": {
   "codemirror_mode": {
    "name": "ipython",
    "version": 3
   },
   "file_extension": ".py",
   "mimetype": "text/x-python",
   "name": "python",
   "nbconvert_exporter": "python",
   "pygments_lexer": "ipython3",
   "version": "3.9.13"
  }
 },
 "nbformat": 4,
 "nbformat_minor": 5
}
