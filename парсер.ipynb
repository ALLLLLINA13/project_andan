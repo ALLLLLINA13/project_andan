{
 "cells": [
  {
   "cell_type": "code",
   "execution_count": 10,
   "id": "87b56bb8",
   "metadata": {},
   "outputs": [
    {
     "name": "stdout",
     "output_type": "stream",
     "text": [
      "Таблица не найдена\n",
      "Empty DataFrame\n",
      "Columns: [Название, Год, Страна, Жанр, Режиссер, Бюджет, Сборы в США, Сборы в мире]\n",
      "Index: []\n"
     ]
    }
   ],
   "source": [
    "import requests\n",
    "from bs4 import BeautifulSoup\n",
    "import pandas as pd\n",
    "\n",
    "url = 'https://www.kinopoisk.ru/index.php?kp_query='\n",
    "query = 'Пираты Карибского моря' # Введите название фильма здесь\n",
    "response = requests.get(url + query)\n",
    "soup = BeautifulSoup(response.content, 'html.parser')\n",
    "\n",
    "table = soup.find('table', {'class': 'js-rum-hero'})\n",
    "rows = []\n",
    "if table is not None:\n",
    "    rows = table.find_all('tr', {'class': 'js-film-list-item'})\n",
    "else:\n",
    "    print('Таблица не найдена')\n",
    "\n",
    "\n",
    "titles = []\n",
    "years = []\n",
    "countries = []\n",
    "genres = []\n",
    "directors = []\n",
    "budgets = []\n",
    "us_gross = []\n",
    "world_gross = []\n",
    "\n",
    "for row in rows:\n",
    "    title = row.find('p', {'class': 'selection-film-item-meta__name'}).text\n",
    "    titles.append(title)\n",
    "    \n",
    "    year = row.find('span', {'class': 'selection-film-item-meta__year'}).text\n",
    "    years.append(year)\n",
    "    \n",
    "    country = row.find('span', {'class': 'selection-film-item-meta__meta-additional'}).find_all('a')[0].text\n",
    "    countries.append(country)\n",
    "    \n",
    "    genre = row.find('span', {'class': 'selection-film-item-meta__meta-additional'}).find_all('a')[1].text\n",
    "    genres.append(genre)\n",
    "    \n",
    "    director = row.find('p', {'class': 'selection-film-item-meta__director'}).find('a').text\n",
    "    directors.append(director)\n",
    "    \n",
    "    budget = row.find_all('p', {'class': 'selection-film-item-meta__meta-value'})[0].text.strip()\n",
    "    budgets.append(budget)\n",
    "    \n",
    "    us = row.find_all('p', {'class': 'selection-film-item-meta__meta-value'})[1].text.strip()\n",
    "    us_gross.append(us)\n",
    "    \n",
    "    world = row.find_all('p', {'class': 'selection-film-item-meta__meta-value'})[2].text.strip()\n",
    "    world_gross.append(world)\n",
    "\n",
    "df = pd.DataFrame({'Название': titles, 'Год': years, 'Страна': countries, 'Жанр': genres, 'Режиссер': directors, 'Бюджет': budgets, 'Сборы в США': us_gross, 'Сборы в мире': world_gross})\n",
    "print(df)\n"
   ]
  },
  {
   "cell_type": "code",
   "execution_count": null,
   "id": "88c0f1a2",
   "metadata": {},
   "outputs": [],
   "source": []
  },
  {
   "cell_type": "code",
   "execution_count": null,
   "id": "3c7f464f",
   "metadata": {},
   "outputs": [],
   "source": []
  }
 ],
 "metadata": {
  "kernelspec": {
   "display_name": "Python 3 (ipykernel)",
   "language": "python",
   "name": "python3"
  },
  "language_info": {
   "codemirror_mode": {
    "name": "ipython",
    "version": 3
   },
   "file_extension": ".py",
   "mimetype": "text/x-python",
   "name": "python",
   "nbconvert_exporter": "python",
   "pygments_lexer": "ipython3",
   "version": "3.9.13"
  }
 },
 "nbformat": 4,
 "nbformat_minor": 5
}
